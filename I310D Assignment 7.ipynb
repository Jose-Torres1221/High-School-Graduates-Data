{
 "cells": [
  {
   "cell_type": "markdown",
   "id": "26900bb9",
   "metadata": {},
   "source": [
    "# Processing Data for Analysis"
   ]
  },
  {
   "cell_type": "markdown",
   "id": "b7bd0bfb",
   "metadata": {},
   "source": [
    "## Importing all necessary libraries"
   ]
  },
  {
   "cell_type": "code",
   "execution_count": 19,
   "id": "08e37e85",
   "metadata": {},
   "outputs": [],
   "source": [
    "import pandas as pd\n",
    "import numpy as np\n",
    "import scipy\n",
    "from matplotlib import pyplot as plt\n",
    "\n",
    "# Before starting, let's tell jupyter not to ignore any output that is supposed to be printed\n",
    "from IPython.core.interactiveshell import InteractiveShell\n",
    "InteractiveShell.ast_node_interactivity = \"all\""
   ]
  },
  {
   "cell_type": "markdown",
   "id": "02380ee1",
   "metadata": {},
   "source": [
    "## Reading in CSV Data"
   ]
  },
  {
   "cell_type": "code",
   "execution_count": 20,
   "id": "7f8049e7",
   "metadata": {},
   "outputs": [],
   "source": [
    "unprocessed_pd = pd.read_csv(\"HCDS Assignment 7 Survey UnProcessed.csv\")"
   ]
  },
  {
   "cell_type": "markdown",
   "id": "fdc3cb5c",
   "metadata": {},
   "source": [
    "## Processing CSV Data\n",
    "- Taking answers from question \"If you are in college/university, what university? If not in college, what job/occupation are you currently doing/seeking for?\"\n",
    "- Convert column into a list\n",
    "- Iterate over list in the following ways:\n",
    ">- All different versions of the same University/College names will be made into one standard name\n",
    ">- All jobs and non-University/College responses will be replaced as \"Occupation\""
   ]
  },
  {
   "cell_type": "code",
   "execution_count": 21,
   "id": "26bdfd82",
   "metadata": {},
   "outputs": [],
   "source": [
    "#Turn column into list\n",
    "university_occupation = list(unprocessed_pd[\"If you are in college/university, what university? If not in college, what job/occupation are you currently doing/seeking for?\"])\n",
    "\n",
    "#loop for each element in the list\n",
    "for i in range(len(university_occupation)):\n",
    "    #Get user inputs for that index and make all caps for easier processing\n",
    "    user_input = university_occupation[i]\n",
    "    user_input = user_input.upper()\n",
    "    \n",
    "    #Replace any typos, or inconsistencies with proper name or \"Occupation\"\n",
    "    if \"AUSTIN\" in user_input:\n",
    "        university_occupation[i] = \"The University of Texas at Austin\"\n",
    "    elif \"HOUSTON\" in user_input:\n",
    "        university_occupation[i] = \"The University of Houston\"\n",
    "    elif \"JAC\" in user_input:\n",
    "        university_occupation[i] = \"San Jacinto College\"\n",
    "    elif \"A&M\" in user_input:\n",
    "        university_occupation[i] = \"Texas A&M University\"\n",
    "    elif \"COLLEGE\" not in user_input:\n",
    "        university_occupation[i] = \"Occupation\""
   ]
  },
  {
   "cell_type": "markdown",
   "id": "cb4c5ad8",
   "metadata": {},
   "source": [
    "## Replacing UnProcessed Column with Processed Column\n",
    "- Use Panda's library to replace previous unprocessed column with processed list"
   ]
  },
  {
   "cell_type": "code",
   "execution_count": 24,
   "id": "9c7fd452",
   "metadata": {},
   "outputs": [],
   "source": [
    "#Copying dataframe to edit it in\n",
    "processed_pd = unprocessed_pd\n",
    "\n",
    "#Replacing column with list\n",
    "processed_pd[\"If you are in college/university, what university? If not in college, what job/occupation are you currently doing/seeking for?\"] = university_occupation"
   ]
  },
  {
   "cell_type": "markdown",
   "id": "b8380016",
   "metadata": {},
   "source": [
    "## Removing Timestamp column from CSV"
   ]
  },
  {
   "cell_type": "code",
   "execution_count": 26,
   "id": "ae40780d",
   "metadata": {},
   "outputs": [],
   "source": [
    "processed_pd = processed_pd.drop('Timestamp', axis = 1)"
   ]
  },
  {
   "cell_type": "markdown",
   "id": "fe0b00da",
   "metadata": {},
   "source": [
    "## Saving Processed Data as Seperate CSV"
   ]
  },
  {
   "cell_type": "code",
   "execution_count": 27,
   "id": "ea9dba6a",
   "metadata": {},
   "outputs": [],
   "source": [
    "processed_pd.to_csv(\"Processed Survey.csv\")"
   ]
  },
  {
   "cell_type": "markdown",
   "id": "3ca95443",
   "metadata": {},
   "source": [
    "# Performing Analysis and Graphing Data"
   ]
  },
  {
   "cell_type": "code",
   "execution_count": null,
   "id": "d880a2ba",
   "metadata": {},
   "outputs": [],
   "source": []
  }
 ],
 "metadata": {
  "kernelspec": {
   "display_name": "Python 3 (ipykernel)",
   "language": "python",
   "name": "python3"
  },
  "language_info": {
   "codemirror_mode": {
    "name": "ipython",
    "version": 3
   },
   "file_extension": ".py",
   "mimetype": "text/x-python",
   "name": "python",
   "nbconvert_exporter": "python",
   "pygments_lexer": "ipython3",
   "version": "3.9.13"
  }
 },
 "nbformat": 4,
 "nbformat_minor": 5
}
